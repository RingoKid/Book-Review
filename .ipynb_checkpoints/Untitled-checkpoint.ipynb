{
 "cells": [
  {
   "cell_type": "code",
   "execution_count": 1,
   "metadata": {},
   "outputs": [],
   "source": [
    "import pandas as pd"
   ]
  },
  {
   "cell_type": "code",
   "execution_count": 67,
   "metadata": {},
   "outputs": [],
   "source": [
    "books = pd.read_csv('books.csv')"
   ]
  },
  {
   "cell_type": "code",
   "execution_count": 81,
   "metadata": {},
   "outputs": [],
   "source": [
    "file = open('/home/ringo/Documents/CS50 Python/4.SQL/project1/insert.sql','w')\n",
    "# for i in range(books.shape[0]):\n",
    "for i in range(5):\n",
    "    file.write('INSERT INTO books (isbn, title, author, year) VALUES (\"' \n",
    "      + books.iloc[i][0] + '\",\"' \n",
    "      + books.iloc[i][1] + '\",\"' \n",
    "      + books.iloc[i][2] + '\",{});\\n'.format(books.iloc[i][3]))\n",
    "file.close()"
   ]
  },
  {
   "cell_type": "code",
   "execution_count": 63,
   "metadata": {},
   "outputs": [],
   "source": [
    "data = (\"INSERT INTO books (isbn, title, author, year) VALUES ('\" \n",
    "      + books.iloc[0][0] + \"','\" \n",
    "      + books.iloc[0][1] + \"','\" \n",
    "      + books.iloc[0][2] + \"',{});\".format(books.iloc[0][3]))"
   ]
  },
  {
   "cell_type": "code",
   "execution_count": 76,
   "metadata": {},
   "outputs": [
    {
     "data": {
      "text/plain": [
       "(5000, 4)"
      ]
     },
     "execution_count": 76,
     "metadata": {},
     "output_type": "execute_result"
    }
   ],
   "source": [
    "books.shape"
   ]
  },
  {
   "cell_type": "code",
   "execution_count": 52,
   "metadata": {},
   "outputs": [
    {
     "name": "stdout",
     "output_type": "stream",
     "text": [
      "Hello 0380795272 1998\n"
     ]
    }
   ],
   "source": [
    "print(\"Hello \"+ books.iloc[0][0] + \" {}\".format(books.iloc[0][3]))"
   ]
  }
 ],
 "metadata": {
  "kernelspec": {
   "display_name": "Python 3",
   "language": "python",
   "name": "python3"
  },
  "language_info": {
   "codemirror_mode": {
    "name": "ipython",
    "version": 3
   },
   "file_extension": ".py",
   "mimetype": "text/x-python",
   "name": "python",
   "nbconvert_exporter": "python",
   "pygments_lexer": "ipython3",
   "version": "3.6.6"
  }
 },
 "nbformat": 4,
 "nbformat_minor": 2
}
